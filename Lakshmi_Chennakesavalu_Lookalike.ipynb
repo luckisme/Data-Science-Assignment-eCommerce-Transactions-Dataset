{
  "metadata": {
    "kernelspec": {
      "name": "python",
      "display_name": "Python (Pyodide)",
      "language": "python"
    },
    "language_info": {
      "codemirror_mode": {
        "name": "python",
        "version": 3
      },
      "file_extension": ".py",
      "mimetype": "text/x-python",
      "name": "python",
      "nbconvert_exporter": "python",
      "pygments_lexer": "ipython3",
      "version": "3.8"
    }
  },
  "nbformat_minor": 5,
  "nbformat": 4,
  "cells": [
    {
      "id": "78f48096-dc0f-4912-bd4c-27b7c39c0356",
      "cell_type": "code",
      "source": "import pandas as pd\n\ncustomers = pd.read_csv('Customers.csv')\nproducts = pd.read_csv('Products.csv')\ntransactions = pd.read_csv('Transactions.csv')\n",
      "metadata": {
        "trusted": true
      },
      "outputs": [],
      "execution_count": 27
    },
    {
      "id": "cc462dc8-d30d-4ffb-8f8a-8bd12339199b",
      "cell_type": "code",
      "source": "# Merging transactions with products\ntransactions_with_category = transactions.merge(\n    products[['ProductID', 'Category']], \n    on='ProductID', \n    how='left'\n)",
      "metadata": {
        "trusted": true
      },
      "outputs": [],
      "execution_count": 28
    },
    {
      "id": "15fbcd29-cdb4-4fd1-a292-1bb43f2d578e",
      "cell_type": "code",
      "source": "# Aggregating sales by product category for each customer\ncustomer_category_sales = transactions_with_category.groupby(['CustomerID', 'Category']).agg(\n    category_spend=('TotalValue', 'sum')\n).reset_index()",
      "metadata": {
        "trusted": true
      },
      "outputs": [],
      "execution_count": 29
    },
    {
      "id": "3c3bfdd5-d96f-4546-9f0f-803ebef9edaa",
      "cell_type": "code",
      "source": "# Pivot the data to get each category as a separate column for each customer\ncustomer_category_sales = customer_category_sales.pivot_table(\n    index='CustomerID', \n    columns='Category', \n    values='category_spend', \n    fill_value=0\n)",
      "metadata": {
        "trusted": true
      },
      "outputs": [],
      "execution_count": 30
    },
    {
      "id": "c22e7ef9-cac4-440d-a5dd-75c19f1ec715",
      "cell_type": "code",
      "source": "from sklearn.metrics.pairwise import cosine_similarity\nfrom sklearn.preprocessing import StandardScaler\nimport numpy as np\n\n# Standardize the customer category spending data\nscaler = StandardScaler()\ncategory_sales_scaled = scaler.fit_transform(customer_category_sales)",
      "metadata": {
        "trusted": true
      },
      "outputs": [],
      "execution_count": 31
    },
    {
      "id": "c4e4b36a-5715-43ce-a2b6-3cc636883e80",
      "cell_type": "code",
      "source": "# Calculating cosine similarity between customers based on category spend\ncosine_sim = cosine_similarity(category_sales_scaled)",
      "metadata": {
        "trusted": true
      },
      "outputs": [],
      "execution_count": 32
    },
    {
      "id": "dec67d6d-47cb-49ba-8761-216a7d01d5ac",
      "cell_type": "code",
      "source": "# Preparing a DataFrame with similarity scores\nsimilarity_df = pd.DataFrame(cosine_sim, index=customer_category_sales.index, columns=customer_category_sales.index)",
      "metadata": {
        "trusted": true
      },
      "outputs": [],
      "execution_count": 33
    },
    {
      "id": "1637d10f-865a-48b9-bf09-d3991a14aad6",
      "cell_type": "code",
      "source": "# Get the top 3 similar customers for the first 20 customers\nlookalike_dict = {}\nfor customer_id in customer_category_sales.index[:20]:\n    similar_customers = similarity_df[customer_id].sort_values(ascending=False).iloc[1:4]\n    lookalike_dict[customer_id] = [(cust_id, score) for cust_id, score in zip(similar_customers.index, similar_customers.values)]",
      "metadata": {
        "trusted": true
      },
      "outputs": [],
      "execution_count": 34
    },
    {
      "id": "556a8778-96e3-4f33-b072-be3a54286efb",
      "cell_type": "code",
      "source": "# Converting the lookalike dictionary to a DataFrame\nlookalike_data = []\nfor customer_id, similar_customers in lookalike_dict.items():\n    for similar_customer in similar_customers:\n        lookalike_data.append([customer_id, similar_customer[0], similar_customer[1]])\n\nlookalike_df = pd.DataFrame(lookalike_data, columns=['CustomerID', 'LookalikeID', 'SimilarityScore'])",
      "metadata": {
        "trusted": true
      },
      "outputs": [],
      "execution_count": 35
    },
    {
      "id": "06b6d023-077b-4728-9e58-2bc24c303f93",
      "cell_type": "code",
      "source": "# Saving the result to a CSV file\nlookalike_df.to_csv('Lookalike.csv', index=False)",
      "metadata": {
        "trusted": true
      },
      "outputs": [],
      "execution_count": 36
    },
    {
      "id": "19d44846-480a-4713-ba65-d9cc4781913a",
      "cell_type": "code",
      "source": "# Output the first few rows of the Lookalike DataFrame\nprint(lookalike_df.head())",
      "metadata": {
        "trusted": true
      },
      "outputs": [
        {
          "name": "stdout",
          "output_type": "stream",
          "text": "  CustomerID LookalikeID  SimilarityScore\n0      C0001       C0091         0.988848\n1      C0001       C0069         0.984344\n2      C0001       C0184         0.978562\n3      C0002       C0159         0.979511\n4      C0002       C0036         0.956762\n"
        }
      ],
      "execution_count": 37
    }
  ]
}